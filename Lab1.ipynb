{
 "cells": [
  {
   "cell_type": "code",
   "execution_count": 1,
   "id": "b3bfe543-47e1-4ebb-adff-7e486c2081ac",
   "metadata": {},
   "outputs": [
    {
     "name": "stdout",
     "output_type": "stream",
     "text": [
      "Python first code\n"
     ]
    }
   ],
   "source": [
    "print ('Python first code')"
   ]
  },
  {
   "cell_type": "code",
   "execution_count": 6,
   "id": "cbb6cbbe-e8f1-495b-92d3-3b7099f473e3",
   "metadata": {},
   "outputs": [
    {
     "name": "stdin",
     "output_type": "stream",
     "text": [
      "Enter your first name: abc\n",
      "Enter your last name: def\n"
     ]
    }
   ],
   "source": [
    "name =input (\"Enter your first name:\")\n",
    "last_name=input ('Enter your last name:')\n"
   ]
  },
  {
   "cell_type": "code",
   "execution_count": 4,
   "id": "ffcfe5b0-73bb-485a-a79b-6c17325b9c77",
   "metadata": {},
   "outputs": [
    {
     "name": "stdout",
     "output_type": "stream",
     "text": [
      "test\n"
     ]
    }
   ],
   "source": [
    "print(name)"
   ]
  },
  {
   "cell_type": "code",
   "execution_count": 5,
   "id": "683c60a4-4986-40ce-b5c4-6f8557a75a37",
   "metadata": {},
   "outputs": [
    {
     "name": "stdout",
     "output_type": "stream",
     "text": [
      "user\n"
     ]
    }
   ],
   "source": [
    "print(last_name)"
   ]
  },
  {
   "cell_type": "code",
   "execution_count": 7,
   "id": "5e937189-222a-4dc0-883a-61b870c64bb0",
   "metadata": {},
   "outputs": [],
   "source": [
    "a='Sujan'\n",
    "b=15\n",
    "c=False\n",
    "d=6.50"
   ]
  },
  {
   "cell_type": "code",
   "execution_count": 8,
   "id": "f1ad48c4-7637-464d-9a4f-6285653f2882",
   "metadata": {},
   "outputs": [
    {
     "data": {
      "text/plain": [
       "str"
      ]
     },
     "execution_count": 8,
     "metadata": {},
     "output_type": "execute_result"
    }
   ],
   "source": [
    "type (a)"
   ]
  },
  {
   "cell_type": "code",
   "execution_count": 9,
   "id": "bd2e4618-674c-4b54-a1fe-ef56679ed62a",
   "metadata": {},
   "outputs": [
    {
     "data": {
      "text/plain": [
       "float"
      ]
     },
     "execution_count": 9,
     "metadata": {},
     "output_type": "execute_result"
    }
   ],
   "source": [
    "type (d)"
   ]
  },
  {
   "cell_type": "markdown",
   "id": "335514b4-f833-4fb3-9f4a-fcb919c35fcc",
   "metadata": {},
   "source": [
    "# This is example"
   ]
  },
  {
   "cell_type": "markdown",
   "id": "584052d7-863e-4196-9832-eefee343c6a8",
   "metadata": {},
   "source": [
    "## This is another example of heading "
   ]
  },
  {
   "cell_type": "code",
   "execution_count": 15,
   "id": "cfd202da-f6a0-469f-8e24-e215bad99e30",
   "metadata": {},
   "outputs": [
    {
     "data": {
      "text/plain": [
       "bool"
      ]
     },
     "execution_count": 15,
     "metadata": {},
     "output_type": "execute_result"
    }
   ],
   "source": [
    "type (c)"
   ]
  },
  {
   "cell_type": "code",
   "execution_count": 16,
   "id": "08575c59-bc58-4452-82b7-3f2560762ec3",
   "metadata": {},
   "outputs": [],
   "source": [
    "x=int(c)"
   ]
  },
  {
   "cell_type": "code",
   "execution_count": 17,
   "id": "dd050d39-cb07-47e5-92a3-85b400145dd5",
   "metadata": {},
   "outputs": [
    {
     "data": {
      "text/plain": [
       "int"
      ]
     },
     "execution_count": 17,
     "metadata": {},
     "output_type": "execute_result"
    }
   ],
   "source": [
    "type (x)"
   ]
  },
  {
   "cell_type": "markdown",
   "id": "fc8b3f57-ee0c-4417-bffb-a5c6cf02e0d6",
   "metadata": {},
   "source": [
    "# Loop"
   ]
  },
  {
   "cell_type": "code",
   "execution_count": 21,
   "id": "b6c4feae-4443-4774-9984-cf700049bcb4",
   "metadata": {},
   "outputs": [
    {
     "ename": "NameError",
     "evalue": "name 'tup' is not defined",
     "output_type": "error",
     "traceback": [
      "\u001b[1;31m---------------------------------------------------------------------------\u001b[0m",
      "\u001b[1;31mNameError\u001b[0m                                 Traceback (most recent call last)",
      "Cell \u001b[1;32mIn[21], line 1\u001b[0m\n\u001b[1;32m----> 1\u001b[0m \u001b[38;5;28;01mfor\u001b[39;00m i \u001b[38;5;129;01min\u001b[39;00m tup:\n\u001b[0;32m      2\u001b[0m     \u001b[38;5;28mprint\u001b[39m(i)\n",
      "\u001b[1;31mNameError\u001b[0m: name 'tup' is not defined"
     ]
    }
   ],
   "source": [
    "for i in tup:\n",
    "    print(i) "
   ]
  },
  {
   "cell_type": "code",
   "execution_count": null,
   "id": "cf9188b4-4781-4955-936b-8fb69193e28b",
   "metadata": {},
   "outputs": [],
   "source": []
  }
 ],
 "metadata": {
  "kernelspec": {
   "display_name": "Python 3 (ipykernel)",
   "language": "python",
   "name": "python3"
  },
  "language_info": {
   "codemirror_mode": {
    "name": "ipython",
    "version": 3
   },
   "file_extension": ".py",
   "mimetype": "text/x-python",
   "name": "python",
   "nbconvert_exporter": "python",
   "pygments_lexer": "ipython3",
   "version": "3.12.4"
  }
 },
 "nbformat": 4,
 "nbformat_minor": 5
}
