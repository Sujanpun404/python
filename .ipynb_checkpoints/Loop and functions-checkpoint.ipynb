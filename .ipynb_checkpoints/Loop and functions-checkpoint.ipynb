{
 "cells": [
  {
   "cell_type": "code",
   "execution_count": 12,
   "id": "9c00ecc4-ac67-492c-ab57-4cf92b2d9c1c",
   "metadata": {},
   "outputs": [
    {
     "name": "stdout",
     "output_type": "stream",
     "text": [
      "0 is an not either even or odd number\n",
      "1 is an odd number\n",
      "2 is an even number\n",
      "3 is an odd number\n",
      "4 is an even number\n",
      "5 is an odd number\n",
      "6 is an even number\n",
      "7 is an odd number\n",
      "8 is an even number\n",
      "9 is an odd number\n",
      "10 is an even number\n",
      "11 is an odd number\n",
      "12 is an even number\n",
      "13 is an odd number\n",
      "14 is an even number\n",
      "15 is an odd number\n",
      "16 is an even number\n",
      "17 is an odd number\n",
      "18 is an even number\n",
      "19 is an odd number\n",
      "20 is an even number\n",
      "21 is an odd number\n",
      "22 is an even number\n",
      "23 is an odd number\n",
      "24 is an even number\n",
      "25 is an odd number\n",
      "26 is an even number\n",
      "27 is an odd number\n",
      "28 is an even number\n",
      "29 is an odd number\n",
      "30 is an even number\n",
      "31 is an odd number\n",
      "32 is an even number\n",
      "33 is an odd number\n",
      "34 is an even number\n",
      "35 is an odd number\n",
      "36 is an even number\n",
      "37 is an odd number\n",
      "38 is an even number\n",
      "39 is an odd number\n",
      "40 is an even number\n",
      "41 is an odd number\n",
      "42 is an even number\n",
      "43 is an odd number\n",
      "44 is an even number\n",
      "45 is an odd number\n",
      "46 is an even number\n",
      "47 is an odd number\n",
      "48 is an even number\n",
      "49 is an odd number\n"
     ]
    }
   ],
   "source": [
    "a=0\n",
    "while a<50:\n",
    "    if a==0:\n",
    "        print(f'{a} is an not either even or odd number')\n",
    "        a+=1\n",
    "    elif a%2==0:\n",
    "        print(f'{a} is an even number')\n",
    "        a+=1\n",
    "    else:\n",
    "        print(f'{a} is an odd number')\n",
    "        a+=1\n"
   ]
  },
  {
   "cell_type": "markdown",
   "id": "07d2b932-9874-4a12-899e-5781052d7fb3",
   "metadata": {},
   "source": [
    "For Loop"
   ]
  },
  {
   "cell_type": "code",
   "execution_count": 18,
   "id": "58b279d1-18f1-4726-b007-ae2301a71262",
   "metadata": {},
   "outputs": [
    {
     "name": "stdout",
     "output_type": "stream",
     "text": [
      "The total bill is 399\n",
      "The average of money spent is 79.8\n"
     ]
    }
   ],
   "source": [
    "bill=[45,66,78,90,120]\n",
    "total_bill=0\n",
    "for a in bill:\n",
    "        total_bill+=a\n",
    "print(f'The total bill is {total_bill}')\n",
    "print(f'The average of money spent is {total_bill/len(bill)}')"
   ]
  },
  {
   "cell_type": "code",
   "execution_count": 19,
   "id": "6ab9d935-e372-4778-9873-d7514e3d30a3",
   "metadata": {},
   "outputs": [
    {
     "name": "stdin",
     "output_type": "stream",
     "text": [
      "Enter a positive integer:  5\n"
     ]
    },
    {
     "name": "stdout",
     "output_type": "stream",
     "text": [
      "The sum of the first 5 natural numbers is: 15\n"
     ]
    }
   ],
   "source": [
    "# Function to calculate the sum of first n natural numbers\n",
    "def sum_of_natural_numbers(n):\n",
    "    total_sum = 0\n",
    "    for i in range(1, n+1):\n",
    "        total_sum += i\n",
    "    return total_sum\n",
    "\n",
    "# Input from the user\n",
    "n = int(input(\"Enter a positive integer: \"))\n",
    "\n",
    "# Calculate and display the sum\n",
    "result = sum_of_natural_numbers(n)\n",
    "print(f\"The sum of the first {n} natural numbers is: {result}\")"
   ]
  },
  {
   "cell_type": "code",
   "execution_count": 20,
   "id": "c5dfa887-0f6e-41e5-b25b-17574fbc5b5c",
   "metadata": {},
   "outputs": [
    {
     "name": "stdin",
     "output_type": "stream",
     "text": [
      "Enter a positive integer:  15\n"
     ]
    },
    {
     "name": "stdout",
     "output_type": "stream",
     "text": [
      "The factorial of 15 is: 1307674368000\n"
     ]
    }
   ],
   "source": [
    "# Function to calculate factorial using a while loop\n",
    "def factorial(n):\n",
    "    result = 1\n",
    "    while n > 0:\n",
    "        result *= n\n",
    "        n -= 1\n",
    "    return result\n",
    "\n",
    "# Input from the user\n",
    "n = int(input(\"Enter a positive integer: \"))\n",
    "\n",
    "# Check if the input is valid\n",
    "if n < 0:\n",
    "    print(\"Factorial is not defined for negative numbers.\")\n",
    "else:\n",
    "    # Calculate and display the factorial\n",
    "    result = factorial(n)\n",
    "    print(f\"The factorial of {n} is: {result}\")"
   ]
  },
  {
   "cell_type": "code",
   "execution_count": 21,
   "id": "a0322904-355b-4f70-a237-bfb33d7ebba5",
   "metadata": {},
   "outputs": [
    {
     "name": "stdin",
     "output_type": "stream",
     "text": [
      "Enter a number:  55\n"
     ]
    },
    {
     "name": "stdout",
     "output_type": "stream",
     "text": [
      "55 x 1 = 55\n",
      "55 x 2 = 110\n",
      "55 x 3 = 165\n",
      "55 x 4 = 220\n",
      "55 x 5 = 275\n",
      "55 x 6 = 330\n",
      "55 x 7 = 385\n",
      "55 x 8 = 440\n",
      "55 x 9 = 495\n",
      "55 x 10 = 550\n"
     ]
    }
   ],
   "source": [
    "# Function to print the multiplication table of a given number\n",
    "def multiplication_table(number):\n",
    "    for i in range(1, 11):\n",
    "        print(f\"{number} x {i} = {number * i}\")\n",
    "\n",
    "# Input from the user\n",
    "num = int(input(\"Enter a number: \"))\n",
    "\n",
    "# Print the multiplication table\n",
    "multiplication_table(num)"
   ]
  },
  {
   "cell_type": "code",
   "execution_count": 22,
   "id": "9cb50ee0-6bb8-4f3f-ad67-d9c78dd99682",
   "metadata": {},
   "outputs": [
    {
     "name": "stdin",
     "output_type": "stream",
     "text": [
      "Enter a number to print its multiplication table:  5\n"
     ]
    },
    {
     "name": "stdout",
     "output_type": "stream",
     "text": [
      "5 x 1 = 5\n",
      "5 x 2 = 10\n",
      "5 x 3 = 15\n",
      "5 x 4 = 20\n",
      "5 x 5 = 25\n",
      "5 x 6 = 30\n",
      "5 x 7 = 35\n",
      "5 x 8 = 40\n",
      "5 x 9 = 45\n",
      "5 x 10 = 50\n"
     ]
    }
   ],
   "source": [
    "a = int(input(\"Enter a number to print its multiplication table: \"))\n",
    "\n",
    "for i in range(1, 11):\n",
    "    print(f\"{a} x {i} = {a * i}\")"
   ]
  },
  {
   "cell_type": "code",
   "execution_count": 27,
   "id": "c72a7bc8-5a67-4adb-9927-f30c43ce87ce",
   "metadata": {},
   "outputs": [
    {
     "name": "stdin",
     "output_type": "stream",
     "text": [
      "Enter number till you want sum 3\n"
     ]
    },
    {
     "name": "stdout",
     "output_type": "stream",
     "text": [
      "The sum is 3 is 6\n"
     ]
    }
   ],
   "source": [
    "num=int(input('Enter number till you want sum'))\n",
    "sum=0\n",
    "for i in range(num+1):\n",
    "    sum=sum+i\n",
    "print(f'The sum is {num} is {sum}')"
   ]
  },
  {
   "cell_type": "markdown",
   "id": "62e57d8e-c81d-426b-89dd-1becf08a3218",
   "metadata": {},
   "source": [
    "#Factorial Calculation (While Loop)\r",
    "Write a Python program to find the factorial of a given number using a while loop. Example: Input: 4 Output: 24"
   ]
  },
  {
   "cell_type": "code",
   "execution_count": 33,
   "id": "fd868ecc-81be-473d-a1b7-688072859ac1",
   "metadata": {},
   "outputs": [
    {
     "name": "stdin",
     "output_type": "stream",
     "text": [
      "Enter number till you want factorial 20\n"
     ]
    },
    {
     "name": "stdout",
     "output_type": "stream",
     "text": [
      "2432902008176640000\n"
     ]
    }
   ],
   "source": [
    "num1=int(input('Enter number till you want factorial'))\n",
    "factorial=1\n",
    "for i in range(1,num1+1):\n",
    "        factorial=factorial*i\n",
    "print(factorial)"
   ]
  },
  {
   "cell_type": "markdown",
   "id": "1fefb57d-ef55-4be7-ab22-9b543ee60539",
   "metadata": {},
   "source": [
    "# 4. Reverse a String (While Loop)\r",
    "Write a Python program that reverses a given string using a while loop. Example: Input: \"hello\" Output: \"olleh\"\n"
   ]
  },
  {
   "cell_type": "code",
   "execution_count": 37,
   "id": "b4f43d6c-e0f9-4fc2-b492-ff7c159979bb",
   "metadata": {},
   "outputs": [
    {
     "name": "stdin",
     "output_type": "stream",
     "text": [
      "Enter a text you want to reverse: sujan\n"
     ]
    },
    {
     "name": "stdout",
     "output_type": "stream",
     "text": [
      "najus\n"
     ]
    }
   ],
   "source": [
    "text=input('Enter a text you want to reverse:')\n",
    "e_text=\"\"\n",
    "for i in text:\n",
    "    e_text=i+e_text\n",
    "print(e_text)\n",
    "    "
   ]
  },
  {
   "cell_type": "code",
   "execution_count": null,
   "id": "a05ba138-9b42-401a-9d04-457b6d36b744",
   "metadata": {},
   "outputs": [
    {
     "name": "stdin",
     "output_type": "stream",
     "text": [
      "Enter a text you want to reverse: sujan\n"
     ]
    }
   ],
   "source": [
    "#While loop\n",
    "text=input('Enter a text you want to reverse:')\n",
    "e_text=\"\"\n",
    "a=0\n",
    "while a<len(text):\n",
    "    e_text=i+e_text\n",
    "print(e_text)"
   ]
  },
  {
   "cell_type": "markdown",
   "id": "3efe4fa0-8caf-46b7-b4cc-2ba4b0f9861e",
   "metadata": {},
   "source": [
    "## Break and continue"
   ]
  },
  {
   "cell_type": "code",
   "execution_count": 3,
   "id": "8d739790-9143-45a8-8a41-4d88625aaeae",
   "metadata": {},
   "outputs": [
    {
     "name": "stdout",
     "output_type": "stream",
     "text": [
      " 0\n",
      " 1\n",
      " 2\n"
     ]
    }
   ],
   "source": [
    "a=0\n",
    "while a<10:\n",
    "        if a==3:\n",
    "            break\n",
    "        else:\n",
    "            print (f' {a}')\n",
    "            a+=1"
   ]
  },
  {
   "cell_type": "code",
   "execution_count": 2,
   "id": "4d15f4ac-74bf-48fe-a8de-7a3ed13780ca",
   "metadata": {},
   "outputs": [
    {
     "name": "stdout",
     "output_type": "stream",
     "text": [
      "0\n",
      "1\n",
      "2\n",
      "4\n",
      "5\n",
      "6\n",
      "7\n",
      "8\n",
      "9\n"
     ]
    }
   ],
   "source": [
    "a=0\n",
    "while a<10:\n",
    "    if a==3:\n",
    "         a+=1\n",
    "         continue\n",
    "\n",
    "    else:\n",
    "         print (f'{a}')\n",
    "         a+=1"
   ]
  },
  {
   "cell_type": "markdown",
   "id": "7c7c4156-f611-415e-bb4b-8f0298b3820f",
   "metadata": {},
   "source": [
    "## 5. Check for Prime Number (For Loop)\n",
    "Write a Python program that checks if a given number is prime or not using a for loop. Example: Input: 7 Output: \"7 is a prime number.\""
   ]
  },
  {
   "cell_type": "code",
   "execution_count": null,
   "id": "669968a1-8ea5-46db-add9-54a624e2d6b9",
   "metadata": {},
   "outputs": [],
   "source": [
    "def p(number):\n",
    "    if number<2:\n",
    "        return false\n",
    "    for i in range(2. int()number **)"
   ]
  }
 ],
 "metadata": {
  "kernelspec": {
   "display_name": "Python 3 (ipykernel)",
   "language": "python",
   "name": "python3"
  },
  "language_info": {
   "codemirror_mode": {
    "name": "ipython",
    "version": 3
   },
   "file_extension": ".py",
   "mimetype": "text/x-python",
   "name": "python",
   "nbconvert_exporter": "python",
   "pygments_lexer": "ipython3",
   "version": "3.12.4"
  }
 },
 "nbformat": 4,
 "nbformat_minor": 5
}
