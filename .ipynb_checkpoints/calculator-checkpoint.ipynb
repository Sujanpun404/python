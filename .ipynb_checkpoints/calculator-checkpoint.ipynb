{
 "cells": [
  {
   "cell_type": "markdown",
   "id": "3d7e53b6-606b-4ea2-9904-8fe687418a75",
   "metadata": {},
   "source": [
    "CALCULATOR"
   ]
  },
  {
   "cell_type": "code",
   "execution_count": null,
   "id": "31b99a26-5621-4fce-8d57-7a7ee72529df",
   "metadata": {},
   "outputs": [],
   "source": [
    "a_user=input('Enter your choice: \\nAdd or +\\nSubtract or -\\nMultiply or *\\nDivide or /\\n\\n').lower()\n",
    "a=int(input('Input your first number: '))\n",
    "b=int(input('Input your second number: '))\n",
    "if a_user=='Divide' or a_user=='/' or a_user=='d':\n",
    "    result=a/b\n",
    "    print(result)\n",
    "elif a_user=='Add' or a_user=='+' or a_user=='a':\n",
    "    result=a+b\n",
    "    print(result)\n",
    "elif a_user=='Subtract' or a_user=='-' or a_user=='s':\n",
    "    result=a-b\n",
    "    print(result)\n",
    "elif a_user=='Multiply' or a_user=='*' or a_user=='m':\n",
    "    result=a*b\n",
    "    print(result)\n",
    "else:\n",
    "    print('Wrong operation')"
   ]
  },
  {
   "cell_type": "code",
   "execution_count": null,
   "id": "95ab920c-4edb-45af-8f8c-23dcfee330c0",
   "metadata": {},
   "outputs": [],
   "source": []
  }
 ],
 "metadata": {
  "kernelspec": {
   "display_name": "Python 3 (ipykernel)",
   "language": "python",
   "name": "python3"
  },
  "language_info": {
   "codemirror_mode": {
    "name": "ipython",
    "version": 3
   },
   "file_extension": ".py",
   "mimetype": "text/x-python",
   "name": "python",
   "nbconvert_exporter": "python",
   "pygments_lexer": "ipython3",
   "version": "3.12.4"
  }
 },
 "nbformat": 4,
 "nbformat_minor": 5
}
