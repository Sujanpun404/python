{
 "cells": [
  {
   "cell_type": "code",
   "execution_count": 3,
   "id": "a2e5688c-ebcf-4f91-9a06-154c462c7080",
   "metadata": {},
   "outputs": [
    {
     "name": "stdout",
     "output_type": "stream",
     "text": [
      "0 is an not either even or odd number\n",
      "1 is an odd number\n",
      "2 is an even number\n",
      "3 is an odd number\n",
      "4 is an even number\n",
      "5 is an odd number\n",
      "6 is an even number\n",
      "7 is an odd number\n",
      "8 is an even number\n",
      "9 is an odd number\n",
      "10 is an even number\n",
      "11 is an odd number\n",
      "12 is an even number\n",
      "13 is an odd number\n",
      "14 is an even number\n",
      "15 is an odd number\n",
      "16 is an even number\n",
      "17 is an odd number\n",
      "18 is an even number\n",
      "19 is an odd number\n",
      "20 is an even number\n",
      "21 is an odd number\n",
      "22 is an even number\n",
      "23 is an odd number\n",
      "24 is an even number\n",
      "25 is an odd number\n",
      "26 is an even number\n",
      "27 is an odd number\n",
      "28 is an even number\n",
      "29 is an odd number\n",
      "30 is an even number\n",
      "31 is an odd number\n",
      "32 is an even number\n",
      "33 is an odd number\n",
      "34 is an even number\n",
      "35 is an odd number\n",
      "36 is an even number\n",
      "37 is an odd number\n",
      "38 is an even number\n",
      "39 is an odd number\n",
      "40 is an even number\n",
      "41 is an odd number\n",
      "42 is an even number\n",
      "43 is an odd number\n",
      "44 is an even number\n",
      "45 is an odd number\n",
      "46 is an even number\n",
      "47 is an odd number\n",
      "48 is an even number\n",
      "49 is an odd number\n"
     ]
    }
   ],
   "source": [
    "a=0\n",
    "while a<50:\n",
    "    if a==0:\n",
    "        print(f'{a} is an not either even or odd number')\n",
    "        a+=1\n",
    "    elif a%2==0:\n",
    "        print(f'{a} is an even number')\n",
    "        a+=1\n",
    "    else:\n",
    "        print(f'{a} is an odd number')\n",
    "        a+=1\n"
   ]
  },
  {
   "cell_type": "code",
   "execution_count": 5,
   "id": "4a1ee4e3-4e54-4d53-b9f5-0f4e49ac4771",
   "metadata": {},
   "outputs": [],
   "source": [
    "! git add ."
   ]
  },
  {
   "cell_type": "code",
   "execution_count": 8,
   "id": "0d4de234-81ed-4af3-bfee-bdc6d7e5ac68",
   "metadata": {},
   "outputs": [
    {
     "name": "stderr",
     "output_type": "stream",
     "text": [
      "error: pathspec 'new' did not match any file(s) known to git\n",
      "error: pathspec 'file'' did not match any file(s) known to git\n"
     ]
    }
   ],
   "source": [
    "! git commit -m 'Added new file'"
   ]
  },
  {
   "cell_type": "code",
   "execution_count": null,
   "id": "f62b9ea8-6d9f-4318-9dcf-5030466c0545",
   "metadata": {},
   "outputs": [],
   "source": []
  }
 ],
 "metadata": {
  "kernelspec": {
   "display_name": "Python 3 (ipykernel)",
   "language": "python",
   "name": "python3"
  },
  "language_info": {
   "codemirror_mode": {
    "name": "ipython",
    "version": 3
   },
   "file_extension": ".py",
   "mimetype": "text/x-python",
   "name": "python",
   "nbconvert_exporter": "python",
   "pygments_lexer": "ipython3",
   "version": "3.12.4"
  }
 },
 "nbformat": 4,
 "nbformat_minor": 5
}
