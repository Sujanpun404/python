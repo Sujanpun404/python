{
 "cells": [
  {
   "cell_type": "markdown",
   "id": "49ccfae6-a5fa-47b1-aac7-4e2b9956b09e",
   "metadata": {},
   "source": [
    "## Functions"
   ]
  },
  {
   "cell_type": "code",
   "execution_count": 1,
   "id": "801516e2-708a-4ed7-b945-a4b169620100",
   "metadata": {},
   "outputs": [],
   "source": [
    "def add():\n",
    "    print('This is test')\n"
   ]
  },
  {
   "cell_type": "code",
   "execution_count": 3,
   "id": "b75be71c-5cb6-4e24-8ee7-aa398af81b84",
   "metadata": {},
   "outputs": [],
   "source": [
    "def test(a,b,c,d,e):\n",
    "    x=a+b-c\n",
    "    y=x+d+e\n",
    "    print(y)"
   ]
  },
  {
   "cell_type": "code",
   "execution_count": 4,
   "id": "65c9dcd3-f985-411d-b8cf-5f6c834ec6d2",
   "metadata": {},
   "outputs": [
    {
     "ename": "TypeError",
     "evalue": "test() missing 5 required positional arguments: 'a', 'b', 'c', 'd', and 'e'",
     "output_type": "error",
     "traceback": [
      "\u001b[1;31m---------------------------------------------------------------------------\u001b[0m",
      "\u001b[1;31mTypeError\u001b[0m                                 Traceback (most recent call last)",
      "Cell \u001b[1;32mIn[4], line 1\u001b[0m\n\u001b[1;32m----> 1\u001b[0m test()\n",
      "\u001b[1;31mTypeError\u001b[0m: test() missing 5 required positional arguments: 'a', 'b', 'c', 'd', and 'e'"
     ]
    }
   ],
   "source": [
    "test()"
   ]
  },
  {
   "cell_type": "code",
   "execution_count": 5,
   "id": "6459391e-7712-4206-a340-8aa205443f9b",
   "metadata": {},
   "outputs": [
    {
     "ename": "TypeError",
     "evalue": "add() missing 5 required positional arguments: 'a', 'b', 'c', 'd', and 'e'",
     "output_type": "error",
     "traceback": [
      "\u001b[1;31m---------------------------------------------------------------------------\u001b[0m",
      "\u001b[1;31mTypeError\u001b[0m                                 Traceback (most recent call last)",
      "Cell \u001b[1;32mIn[5], line 1\u001b[0m\n\u001b[1;32m----> 1\u001b[0m add()\n",
      "\u001b[1;31mTypeError\u001b[0m: add() missing 5 required positional arguments: 'a', 'b', 'c', 'd', and 'e'"
     ]
    }
   ],
   "source": [
    "add()"
   ]
  },
  {
   "cell_type": "code",
   "execution_count": 6,
   "id": "61a177da-cd2a-4b39-8509-d572da84dfa7",
   "metadata": {},
   "outputs": [
    {
     "name": "stdout",
     "output_type": "stream",
     "text": [
      "12\n"
     ]
    }
   ],
   "source": [
    "test(2,3,4,5,6)"
   ]
  },
  {
   "cell_type": "markdown",
   "id": "3f36cda2-4554-48a2-8edd-0e6d437be6c8",
   "metadata": {},
   "source": [
    "## ARGUMENT"
   ]
  },
  {
   "cell_type": "code",
   "execution_count": 7,
   "id": "32511663-2c59-492a-a095-12374e647e53",
   "metadata": {},
   "outputs": [],
   "source": [
    "def diff(x,y):\n",
    "    print(x-y)"
   ]
  },
  {
   "cell_type": "code",
   "execution_count": 8,
   "id": "116f6b4a-2c8a-4f35-9307-7f874dca9752",
   "metadata": {},
   "outputs": [
    {
     "name": "stdout",
     "output_type": "stream",
     "text": [
      "15\n"
     ]
    }
   ],
   "source": [
    "diff(20,5)"
   ]
  },
  {
   "cell_type": "code",
   "execution_count": 9,
   "id": "074b4445-6300-467a-a2e2-20ede92b3aea",
   "metadata": {},
   "outputs": [],
   "source": [
    "def test(*val):\n",
    "    print(val[0])\n",
    "    print(val[1])\n",
    "    print(val[2])\n",
    "    "
   ]
  },
  {
   "cell_type": "code",
   "execution_count": 10,
   "id": "22065990-c045-4b3f-8698-de641fb5b141",
   "metadata": {},
   "outputs": [
    {
     "name": "stdout",
     "output_type": "stream",
     "text": [
      "5\n",
      "12\n",
      "15\n"
     ]
    }
   ],
   "source": [
    "test(5,12,15)"
   ]
  },
  {
   "cell_type": "code",
   "execution_count": 17,
   "id": "de471833-815c-4748-a744-93cf8fae0072",
   "metadata": {},
   "outputs": [],
   "source": [
    "def status (city='ktm', name='abc' , age=27):\n",
    "    print(f'I live in {city}. I am {name} and my age is {age}')"
   ]
  },
  {
   "cell_type": "code",
   "execution_count": 15,
   "id": "0e22052a-41ba-4801-8e8b-6fa33707e863",
   "metadata": {},
   "outputs": [
    {
     "name": "stdout",
     "output_type": "stream",
     "text": [
      "I live inktm. I am abc and my age is 27\n"
     ]
    }
   ],
   "source": [
    "status()"
   ]
  },
  {
   "cell_type": "code",
   "execution_count": 16,
   "id": "81cc5f8b-845b-4e07-88aa-1de9127b40f2",
   "metadata": {},
   "outputs": [
    {
     "name": "stdout",
     "output_type": "stream",
     "text": [
      "I live inktm. I am abc and my age is 27\n"
     ]
    }
   ],
   "source": [
    "status()"
   ]
  },
  {
   "cell_type": "code",
   "execution_count": 18,
   "id": "746b2710-5b96-40c2-a147-1226019b0544",
   "metadata": {},
   "outputs": [
    {
     "name": "stdout",
     "output_type": "stream",
     "text": [
      "I live in ktm. I am abc and my age is 27\n"
     ]
    }
   ],
   "source": [
    "status()"
   ]
  },
  {
   "cell_type": "code",
   "execution_count": 1,
   "id": "dcddffc6-6a3b-490c-bfb3-bb17a30ca201",
   "metadata": {},
   "outputs": [
    {
     "name": "stdin",
     "output_type": "stream",
     "text": [
      "Enter the principa amount: 5000\n",
      "Enter the time in year: 25\n",
      "Enter the rate: 2\n"
     ]
    },
    {
     "name": "stdout",
     "output_type": "stream",
     "text": [
      "Interest is 2500.0\n"
     ]
    }
   ],
   "source": [
    "# Program to calculate simple interest\n",
    "def int_pro(p,t,r):\n",
    "    i=(p*t*r)/100\n",
    "    print(f'Interest is {i}')\n",
    "p=int(input('Enter the principa amount:'))\n",
    "t=int(input('Enter the time in year:'))\n",
    "r=int(input('Enter the rate:'))\n",
    "\n",
    "int_pro(p,t,r)"
   ]
  },
  {
   "cell_type": "markdown",
   "id": "a94c8f43-1df3-4d82-8fc6-ca83356410ad",
   "metadata": {},
   "source": [
    "## Write a Python function greet(name) that takes a name as an argument and prints a greeting message."
   ]
  },
  {
   "cell_type": "code",
   "execution_count": 7,
   "id": "33547606-9efa-414d-87bb-3f02d980a30e",
   "metadata": {},
   "outputs": [],
   "source": [
    "def greet(name='Sujan'):\n",
    "    print(f' Hello {name}')"
   ]
  },
  {
   "cell_type": "code",
   "execution_count": 8,
   "id": "e29bef53-6434-4041-8bac-38a081e789ac",
   "metadata": {},
   "outputs": [
    {
     "name": "stdout",
     "output_type": "stream",
     "text": [
      " Hello Sujan\n"
     ]
    }
   ],
   "source": [
    "greet()"
   ]
  },
  {
   "cell_type": "markdown",
   "id": "b8ba15d9-2916-4df4-aee1-fb5d9cc59f12",
   "metadata": {},
   "source": [
    "## Write a function factorial(n) to calculate the factorial of a number using recursion.\n",
    "Create a function is_even(num) that returns True if the given number is even, otherwise False.\n"
   ]
  },
  {
   "cell_type": "code",
   "execution_count": 10,
   "id": "7b184ffe-3c9f-4e63-b800-747be8230b71",
   "metadata": {},
   "outputs": [
    {
     "name": "stdin",
     "output_type": "stream",
     "text": [
      "Enter a number to find factorial 5\n"
     ]
    },
    {
     "name": "stdout",
     "output_type": "stream",
     "text": [
      " The factorial of 5 is 120\n"
     ]
    }
   ],
   "source": [
    "\n",
    "\n",
    "def factorial(n):\n",
    "    if n==0 or n==1:\n",
    "        return 1\n",
    "    else:\n",
    "        return n*factorial(n-1)\n",
    "\n",
    "number=int(input(\"Enter a number to find factorial\"))\n",
    "result=factorial(number)\n",
    "print(f\" The factorial of {number} is {result}\")\n"
   ]
  },
  {
   "cell_type": "markdown",
   "id": "373331cc-147e-40fe-b8ec-31f39492a05c",
   "metadata": {},
   "source": [
    "## Create a function is_even(num) that returns True if the given number is even, otherwise False.\n"
   ]
  },
  {
   "cell_type": "code",
   "execution_count": 21,
   "id": "a30a6ba5-fc10-4edd-b94a-1ed7f2f36daf",
   "metadata": {},
   "outputs": [
    {
     "name": "stdin",
     "output_type": "stream",
     "text": [
      "Enter a number to check even or not: 20\n"
     ]
    },
    {
     "name": "stdout",
     "output_type": "stream",
     "text": [
      " The 20 is an even number.\n"
     ]
    }
   ],
   "source": [
    "def is_even(num):\n",
    "    if num%2==0:\n",
    "        return 1\n",
    "\n",
    "num=int(input(\"Enter a number to check even or not:\"))\n",
    "if is_even(num):\n",
    "    print(f\" The {num} is an even number.\")\n",
    "else:\n",
    "    print(f\" {num} is an odd number.\")"
   ]
  },
  {
   "cell_type": "code",
   "execution_count": null,
   "id": "1f2eab09-cd32-4a47-8c50-ac29e204610a",
   "metadata": {},
   "outputs": [],
   "source": []
  }
 ],
 "metadata": {
  "kernelspec": {
   "display_name": "Python 3 (ipykernel)",
   "language": "python",
   "name": "python3"
  },
  "language_info": {
   "codemirror_mode": {
    "name": "ipython",
    "version": 3
   },
   "file_extension": ".py",
   "mimetype": "text/x-python",
   "name": "python",
   "nbconvert_exporter": "python",
   "pygments_lexer": "ipython3",
   "version": "3.12.4"
  }
 },
 "nbformat": 4,
 "nbformat_minor": 5
}
